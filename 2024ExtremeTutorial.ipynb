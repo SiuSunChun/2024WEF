{
 "cells": [
  {
   "cell_type": "code",
   "execution_count": null,
   "id": "94108f77-3562-4b7b-9d0d-6f41466e7898",
   "metadata": {},
   "outputs": [],
   "source": [
    "##install.packages('terra') ###for your first run you need to install this packages\n",
    "library(terra)\n"
   ]
  },
  {
   "cell_type": "code",
   "execution_count": null,
   "id": "2b4c9952-6d8e-4763-8af9-090317916ded",
   "metadata": {},
   "outputs": [],
   "source": [
    "###Loading data\n",
    "HD<-read.csv('https://raw.githubusercontent.com/SiuSunChun/LearnRwithSun/main/Data/A0_Historical.csv')\n",
    "FF1<-read.csv('https://raw.githubusercontent.com/SiuSunChun/LearnRwithSun/main/Data/A1_RCP85_1980_2000.csv')\n",
    "FF2<-read.csv('https://raw.githubusercontent.com/SiuSunChun/LearnRwithSun/main/Data/A1_RCP85_2020_2040.csv')\n",
    "FF3<-read.csv('https://raw.githubusercontent.com/SiuSunChun/LearnRwithSun/main/Data/A1_RCP85_2060_2080.csv')\n",
    "UK1<-readRDS(gzcon(url('https://github.com/SiuSunChun/LearnRwithSun/raw/main/Data/UKMap2.rds')))\n",
    "UK2<-readRDS(gzcon(url('https://github.com/SiuSunChun/LearnRwithSun/raw/main/Data/UKMap4.rds')))\n"
   ]
  },
  {
   "cell_type": "code",
   "execution_count": null,
   "id": "f625a7c4-6518-4cff-973f-111e26d6600e",
   "metadata": {},
   "outputs": [],
   "source": [
    "###UK Catchment Maps\n",
    "plot(UK1,border=grey(0.6))\n",
    "plot(UK2,add=T,border=grey(0.6))\n",
    "axis(1)\n",
    "axis(2)\n",
    "box()\n",
    "text(coordinates(UK1)[,1],coordinates(UK1)[,2],UK1$geo_region,\n",
    "pos=c(1,1,1, 3,1,1, 1,1,3,\n",
    "3,1,1, 1,3,3, 1,1,1,\n",
    "1,1,1,1,1),\n",
    "offset=0.2,\n",
    "cex=0.7)\n"
   ]
  },
  {
   "cell_type": "code",
   "execution_count": null,
   "id": "7a3949eb-0dfd-41ae-a5d6-33c6fcd9d41f",
   "metadata": {},
   "outputs": [],
   "source": [
    "##Avaliable Years\n",
    "HD[,1]\n"
   ]
  },
  {
   "cell_type": "code",
   "execution_count": null,
   "id": "cd7bd6ec-5726-4334-9dd3-edc9574c3a2e",
   "metadata": {},
   "outputs": [],
   "source": [
    "##Catchment Names\n",
    "names(HD)[-1]\n"
   ]
  },
  {
   "cell_type": "code",
   "execution_count": null,
   "id": "6f36e4b3-96fd-48b9-8fbd-6118913f2829",
   "metadata": {},
   "outputs": [],
   "source": [
    "###Select Catchment\n",
    "#SeC<-'Severn'\n",
    "SeC<-'Thames'\n"
   ]
  },
  {
   "cell_type": "code",
   "execution_count": null,
   "id": "bc89487e-5fb3-4e40-89e2-a36979ef85ed",
   "metadata": {},
   "outputs": [],
   "source": [
    "###Historical annual precipitation maximum time series \n",
    "options(repr.plot.width = 10, repr.plot.height = 5)\n",
    "plot(HD$Year,HD[,SeC],type='h',xlab='Year',ylab='Annual Precipitation Maximum (mm)')\n",
    "title(SeC,line=0.5)\n"
   ]
  },
  {
   "cell_type": "code",
   "execution_count": null,
   "id": "c5430ee5-97f2-42ba-ba6d-bec1c38fb25f",
   "metadata": {},
   "outputs": [],
   "source": [
    "###UKCP18 time series for 3 time periods \n",
    "###RCP85_1980_2000\n",
    "###RCP85_2020_2040\n",
    "###RCP85_2060_2080\n",
    "options(repr.plot.width = 10, repr.plot.height = 5)\n",
    "plot(c(FF1$Year,FF2$Year,FF3$Year),c(FF1[,SeC],FF2[,SeC],FF3[,SeC]),\n",
    "type='h',xlab='Year',ylab='Annual Precipitation Maximum (mm)')\n",
    "title(SeC,line=1.5)\n",
    "title('UKCP18 RCP85',line=0.5)\n"
   ]
  },
  {
   "cell_type": "code",
   "execution_count": null,
   "id": "d0aa2a52-77cb-4e85-99b9-3a3ab3de6e13",
   "metadata": {},
   "outputs": [],
   "source": [
    "####Extreme analysis###\n",
    "##install.packages('ismev') ###for your first run you need to install this packages\n",
    "library('ismev')\n",
    "\n",
    "#####Generialised Extreme Value (GEV) quantile functions#######\n",
    "qgevs<-function (p, loc = 0, scale = 1, shape = 0, lower.tail = TRUE) \n",
    "{\n",
    "    if (min(p, na.rm = TRUE) <= 0 || max(p, na.rm = TRUE) >= \n",
    "        1) \n",
    "        stop(\"`p' must contain probabilities in (0,1)\")\n",
    "    if (min(scale) < 0) \n",
    "        stop(\"invalid scale\")\n",
    "    if (length(shape) != 1) \n",
    "        stop(\"invalid shape\")\n",
    "    if (!lower.tail) \n",
    "        p <- 1 - p\n",
    "    if (shape == 0) \n",
    "        return(loc - scale * log(-log(p)))\n",
    "    else return(loc + scale * ((-log(p))^(-shape) - 1)/shape)\n",
    "}\n",
    "\n",
    "#####Generialised Extreme Value (GEV) probability functions#######\n",
    "pgevs<-function (q, loc = 0, scale = 1, shape = 0, lower.tail = TRUE) \n",
    "{\n",
    "    if (min(scale) <= 0) \n",
    "        stop(\"invalid scale\")\n",
    "    if (length(shape) != 1) \n",
    "        stop(\"invalid shape\")\n",
    "    q <- (q - loc)/scale\n",
    "    if (shape == 0) \n",
    "        p <- exp(-exp(-q))\n",
    "    else p <- exp(-pmax(1 + shape * q, 0)^(-1/shape))\n",
    "    if (!lower.tail) \n",
    "        p <- 1 - p\n",
    "    p\n",
    "}\n"
   ]
  },
  {
   "cell_type": "code",
   "execution_count": null,
   "id": "552b286b-32e0-41e4-b00a-a4a635adeb80",
   "metadata": {},
   "outputs": [],
   "source": [
    "###Extreme analysis plots\n",
    "options(repr.plot.width = 8, repr.plot.height = 8)\n",
    "gev.diag(gev.fit(HD[,SeC],show=F))\n",
    "title(SeC)\n"
   ]
  },
  {
   "cell_type": "code",
   "execution_count": null,
   "id": "40dfeae8-73db-4f8a-bda8-523463dd8271",
   "metadata": {},
   "outputs": [],
   "source": [
    "###Fitted model\n",
    "F1<-gev.fit(HD[,SeC],show=F)\n",
    "\n",
    "HH<-hist(HD[,SeC],plot=F)\n",
    "XX0<-seq(min(HH$breaks),max(HH$breaks),length=100)\n",
    "YY0<-gev.dens(F1$mle, XX0)\n",
    "\n",
    "options(repr.plot.width = 6, repr.plot.height = 6)\n",
    "plot(HH,ylim=range(HH$density,YY0),freq=F,main=SeC,xlab='Annual Precipitation Maximum (mm)')\n",
    "lines(XX0,YY0)\n"
   ]
  },
  {
   "cell_type": "code",
   "execution_count": null,
   "id": "5a8ffabc-f57c-4530-9f06-174fb4e66d67",
   "metadata": {},
   "outputs": [],
   "source": [
    "###UKCP18\n",
    "###Generate extreme model data fits\n",
    "PP1<-gev.fit(FF1[,SeC],show=F)\n",
    "PP2<-gev.fit(FF2[,SeC],show=F)\n",
    "PP3<-gev.fit(FF3[,SeC],show=F)\n"
   ]
  },
  {
   "cell_type": "code",
   "execution_count": null,
   "id": "89ab45ff-0f6e-4da1-9f29-c8bc4bdf69be",
   "metadata": {},
   "outputs": [],
   "source": [
    "###Generate the fitted extreme curves\n",
    "XX<-seq(min(c(FF1[,SeC],FF2[,SeC],FF3[,SeC]))*0.8,max(c(FF1[,SeC],FF2[,SeC],FF3[,SeC])),length=100)\n",
    "YY1<-gev.dens(PP1$mle, XX)\n",
    "YY2<-gev.dens(PP2$mle, XX)\n",
    "YY3<-gev.dens(PP3$mle, XX)\n"
   ]
  },
  {
   "cell_type": "code",
   "execution_count": null,
   "id": "cf08a35a-bdec-4f7f-af1f-cfd5bd20a411",
   "metadata": {},
   "outputs": [],
   "source": [
    "####plot density plots\n",
    "options(repr.plot.width = 6, repr.plot.height = 6)\n",
    "par(mar=c(4,4.5,3,1.5))\n",
    "plot(XX,YY1, ylim =range(YY1,YY2,YY3),main='',xlab='Precipitation extreme (mm)',col='brown',lwd=2,ty='l',ylab='Density')\n",
    "lines(XX,YY2,col='orange',lwd=2)\n",
    "lines(XX,YY3,col='red',lwd=2)\n",
    "title(SeC,line=0.5)\n",
    "legend('topright',c('1980-2000','2020-2040','2060-2080'),lwd=2,col=c('brown','orange','red'),cex=0.8)\n"
   ]
  },
  {
   "cell_type": "code",
   "execution_count": null,
   "id": "3e9ef5e0-b330-439f-a268-376193f768ff",
   "metadata": {},
   "outputs": [],
   "source": [
    "####The 1 in 100 year event for the annual precipitation maximum at the Thames catchment is 46.86mm in 1980-2000\n",
    "Q1<-qgevs(1-1/100,PP1$mle[1],PP1$mle[2],PP1$mle[3])\n",
    "print(paste0('The ',SeC,' results'))\n",
    "print(paste0('The 1 in 100 year event is ',round(Q1,2),'mm for the UKCP18 simulation in 1980-2000'))\n",
    "####It will be only 1 in 35 year event for the annual precipitation maximum at the Thames catchment in 2060-2080 under the RCP8.5 scenarios\n",
    "print(paste('1 in',round(1/(1-pgevs(Q1,PP3$mle[1],PP3$mle[2],PP3$mle[3])),0),'year in  2060-2080under the RCP8.5 scenarios'))\n"
   ]
  }
 ],
 "metadata": {
  "kernelspec": {
   "display_name": "RTrial",
   "language": "R",
   "name": "ir43"
  },
  "language_info": {
   "codemirror_mode": "r",
   "file_extension": ".r",
   "mimetype": "text/x-r-source",
   "name": "R",
   "pygments_lexer": "r",
   "version": "4.3.2"
  }
 },
 "nbformat": 4,
 "nbformat_minor": 5
}
